{
 "cells": [
  {
   "cell_type": "markdown",
   "metadata": {
    "collapsed": true,
    "pycharm": {
     "name": "#%% md\n"
    }
   },
   "source": [
    "## Main file project\n"
   ]
  },
  {
   "cell_type": "code",
   "execution_count": 12,
   "metadata": {
    "pycharm": {
     "is_executing": false,
     "name": "#%%\n"
    }
   },
   "outputs": [],
   "source": [
    "# Main imports\n",
    "import networkx as nx\n",
    "import numpy as np\n",
    "from sklearn.model_selection import train_test_split, KFold "
   ]
  },
  {
   "cell_type": "code",
   "execution_count": 6,
   "metadata": {
    "pycharm": {
     "is_executing": false,
     "name": "#%%\n"
    }
   },
   "outputs": [],
   "source": [
    "# Load the training dataset (with the labels)\n",
    "X = []\n",
    "y = []\n",
    "with open(\"../data/training.txt\", \"r\") as f:\n",
    "    for line in f:\n",
    "        line = line.split()\n",
    "        X.append(np.array([int(line[0]), int(line[1])]))\n",
    "        y.append(np.array(int(line[2])))\n",
    "    X = np.array(X)\n",
    "    y = np.array(y)"
   ]
  },
  {
   "cell_type": "markdown",
   "metadata": {},
   "source": [
    "## Define some functions"
   ]
  },
  {
   "cell_type": "code",
   "execution_count": 14,
   "metadata": {
    "pycharm": {
     "is_executing": false,
     "name": "#%%\n"
    }
   },
   "outputs": [],
   "source": [
    "# Fill graph from np.arrays\n",
    "def fill_graph(X, y):\n",
    "    G = nx.Graph()\n",
    "    for nd, v in zip(X, y):\n",
    "        if int(v) == 1:\n",
    "            G.add_edge(nd[0], nd[1])\n",
    "    return G\n",
    "\n",
    "\n",
    "# Compute F1-Score\n",
    "def compute_score(y_pred, y):\n",
    "    # pred is the predicted vector of 0's and 1's\n",
    "    # data is the expected vector of 0's and 1's\n",
    "    n_pred = len(y_pred)\n",
    "    n_data = len(y)\n",
    "    assert(n_pred == n_data)\n",
    "    tp, fp, fn = 0, 0, 0\n",
    "    for i in range(n_data):\n",
    "        \n",
    "        if int(y_pred[i]) == 1 and int(y[i]) == 1:\n",
    "            tp += 1\n",
    "        elif int(y_pred[i]) == 1 and int(y[i]) == 0:\n",
    "            fp += 1\n",
    "        elif int(y_pred[i]) == 0 and int(y[i]) == 0:\n",
    "            fn += 1\n",
    "    p = 1.*tp / (tp + fp)\n",
    "    r = 1.*tp / (tp + fn)\n",
    "    return 2*p*r/(p+r)\n",
    "\n",
    "# Compute jaccard predictions given a Graph and the nodes array\n",
    "def jaccard_prediction(G, X):\n",
    "    predictions = []\n",
    "    for x in X:\n",
    "        try:\n",
    "            coef = [[u, v, p] for u, v, p in nx.jaccard_coefficient(G, [(x[0], x[1])])][0]\n",
    "        except KeyError:  # If the node tryed isn't in the Graph we predict 0...\n",
    "            coef = [0, 0, 0]\n",
    "        if coef[2] > 0.005:\n",
    "            predictions.append(1)\n",
    "        else:\n",
    "            predictions.append(0)\n",
    "    return predictions\n",
    "\n",
    "\n",
    "# Compute the score given a predictor and the training set\n",
    "\n",
    "def computeTrainingScore_kFold(predictor, X, y, n_splits):\n",
    "    kf = KFold(n_splits = n_splits)  # Define the split - into n_splits folds\n",
    "\n",
    "    mean_score = 0\n",
    "    i=1\n",
    "    for train_index, val_index in kf.split(X):\n",
    "        X_train, X_val = X[train_index], X[val_index]\n",
    "        y_train, y_val = y[train_index], y[val_index]\n",
    "\n",
    "        # Let's reinitilize the graph\n",
    "        G = fill_graph(X_train, y_train)\n",
    "        y_pred = predictor(G, X_val)\n",
    "        mean_score += compute_score(y_pred, y_val)\n",
    "        print(mean_score/i)\n",
    "        i+=1\n",
    "    return mean_score/n_splits\n",
    "def computeTrainingScore(predictor, X, y, test_size=0.1):\n",
    "    X_train, X_val, y_train, y_val = train_test_split(X, y, test_size=test_size, random_state=1)\n",
    "    G = fill_graph(X_train, y_train)\n",
    "    y_pred = predictor(G, X_val)\n",
    "    return compute_score(y_pred, y_val)"
   ]
  },
  {
   "cell_type": "markdown",
   "metadata": {
    "pycharm": {
     "name": "#%% md\n"
    }
   },
   "source": [
    "## 1) Given approach - Graph baseline - Jaccard coefficient"
   ]
  },
  {
   "cell_type": "code",
   "execution_count": 15,
   "metadata": {
    "pycharm": {
     "is_executing": false,
     "name": "#%%\n"
    }
   },
   "outputs": [
    {
     "name": "stdout",
     "output_type": "stream",
     "text": [
      "0.6158371040723982\n"
     ]
    }
   ],
   "source": [
    "# For training purpose, as the testing.txt set doesn't have the labels\n",
    "# We will split our original (training) dataset with kfolds \n",
    "# For each split we'll initilize a Graph, train our model and get the mean score\n",
    "# On the training set\n",
    "n_splits = 2\n",
    "\n",
    "jacc_score = computeTrainingScore(jaccard_prediction, X, y)\n",
    "print(jacc_score)"
   ]
  }
 ],
 "metadata": {
  "kernelspec": {
   "display_name": "Python 3",
   "language": "python",
   "name": "python3"
  },
  "language_info": {
   "codemirror_mode": {
    "name": "ipython",
    "version": 3
   },
   "file_extension": ".py",
   "mimetype": "text/x-python",
   "name": "python",
   "nbconvert_exporter": "python",
   "pygments_lexer": "ipython3",
   "version": "3.6.9"
  },
  "pycharm": {
   "stem_cell": {
    "cell_type": "raw",
    "metadata": {
     "collapsed": false
    },
    "source": []
   }
  }
 },
 "nbformat": 4,
 "nbformat_minor": 1
}
